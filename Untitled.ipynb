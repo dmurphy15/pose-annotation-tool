{
 "cells": [
  {
   "cell_type": "code",
   "execution_count": 1,
   "metadata": {},
   "outputs": [],
   "source": [
    "import os\n",
    "import yaml\n",
    "import tkinter as tk\n",
    "from tkinter import filedialog"
   ]
  },
  {
   "cell_type": "code",
   "execution_count": 2,
   "metadata": {},
   "outputs": [],
   "source": [
    "class MainWin():\n",
    "    def __init__(self, root):\n",
    "        root.title('pose-annotation-tool')\n",
    "        \n",
    "        # set up menu bar\n",
    "        mainMenu = tk.Menu(root)\n",
    "        root.config(menu=mainMenu)\n",
    "        fileMenu = tk.Menu(mainMenu, tearoff=False)\n",
    "        mainMenu.add_cascade(label='File', menu=fileMenu)  \n",
    "        fileMenu.add_command(label='New Project', command=self.__DoNewProjectPopup)\n",
    "        \n",
    "    def __DoNewProjectPopup(self):\n",
    "        p = NewProjectPopup()\n",
    "        "
   ]
  },
  {
   "cell_type": "code",
   "execution_count": 13,
   "metadata": {},
   "outputs": [],
   "source": [
    "class NewProjectPopup():\n",
    "    projectModes = [\n",
    "        'RGB Single View',\n",
    "        'RGB Multi View',\n",
    "        'RGB Depth'\n",
    "    ]\n",
    "    def __init__(self):\n",
    "        self.win = tk.Toplevel()\n",
    "        self.projectPath = tk.StringVar(self.win, value=os.path.join(os.getcwd(), 'Untitled'))\n",
    "        self.projectMode = tk.StringVar(self.win, value=self.projectModes[0])\n",
    "        \n",
    "        win = self.win\n",
    "        # freeze all other windows while this popup is active\n",
    "        win.grab_set()\n",
    "        \n",
    "        win.title('Create New Project')\n",
    "        \n",
    "        upper = tk.Frame(win)\n",
    "        upper.pack(side=tk.TOP)\n",
    "        lower = tk.Frame(win)\n",
    "        lower.pack(side=tk.BOTTOM)\n",
    "        \n",
    "        # button to select project path\n",
    "        tk.Label(upper, text='Project Folder Path').grid(row=0, column=0)\n",
    "        tk.Entry(upper, textvariable=self.projectPath).grid(row=0, column=1)\n",
    "        tk.Button(upper, text='Browse...', command=self.__chooseProjectPath).grid(row=0, column=2)\n",
    "        \n",
    "        # button to select project mode\n",
    "        tk.Label(upper, text='Mode').grid(row=1, column=0)\n",
    "        tk.OptionMenu(upper, self.projectMode, *self.projectModes).grid(row=1, column=1)\n",
    "        \n",
    "        # ok and cancel\n",
    "        tk.Button(lower, text='Ok', command=self.__ok).pack(side=tk.LEFT)\n",
    "        tk.Button(lower, text='Cancel', command=self.win.destroy).pack(side=tk.RIGHT)\n",
    "    \n",
    "    def __chooseProjectPath(self):\n",
    "        self.projectPath.set(filedialog.asksaveasfilename(initialdir='.', title='Choose Path'))\n",
    "    \n",
    "    def __ok(self):\n",
    "        try:\n",
    "            os.mkdir(self.projectPath.get())\n",
    "            f = open(os.path.join(self.projectPath.get(), 'cfg.yaml'), 'w')\n",
    "            yaml.dump({'mode': self.projectMode.get()}, f)\n",
    "            self.win.destroy()\n",
    "        except FileExistsError:\n",
    "            self.__alert('Please choose a project folder path that does not already exist.')\n",
    "        except Exception as e:\n",
    "            self.__alert(str(e))\n",
    "        \n",
    "    def __alert(self, msg):\n",
    "        win = tk.Toplevel()\n",
    "        win.grab_set()\n",
    "        tk.Message(win, text=msg).pack()\n",
    "        \n",
    "        \n",
    "        "
   ]
  },
  {
   "cell_type": "code",
   "execution_count": 15,
   "metadata": {},
   "outputs": [],
   "source": []
  },
  {
   "cell_type": "code",
   "execution_count": 34,
   "metadata": {},
   "outputs": [],
   "source": []
  },
  {
   "cell_type": "code",
   "execution_count": null,
   "metadata": {},
   "outputs": [],
   "source": []
  },
  {
   "cell_type": "code",
   "execution_count": null,
   "metadata": {},
   "outputs": [],
   "source": []
  },
  {
   "cell_type": "code",
   "execution_count": null,
   "metadata": {},
   "outputs": [],
   "source": []
  },
  {
   "cell_type": "code",
   "execution_count": null,
   "metadata": {},
   "outputs": [],
   "source": []
  },
  {
   "cell_type": "code",
   "execution_count": null,
   "metadata": {},
   "outputs": [],
   "source": []
  },
  {
   "cell_type": "code",
   "execution_count": 14,
   "metadata": {},
   "outputs": [],
   "source": [
    "root = tk.Tk()\n",
    "mainWin = MainWin(root)\n",
    "root.mainloop()"
   ]
  },
  {
   "cell_type": "code",
   "execution_count": null,
   "metadata": {},
   "outputs": [],
   "source": []
  }
 ],
 "metadata": {
  "kernelspec": {
   "display_name": "Python 3",
   "language": "python",
   "name": "python3"
  },
  "language_info": {
   "codemirror_mode": {
    "name": "ipython",
    "version": 3
   },
   "file_extension": ".py",
   "mimetype": "text/x-python",
   "name": "python",
   "nbconvert_exporter": "python",
   "pygments_lexer": "ipython3",
   "version": "3.7.3"
  }
 },
 "nbformat": 4,
 "nbformat_minor": 2
}
